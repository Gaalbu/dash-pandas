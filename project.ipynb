{
 "cells": [
  {
   "cell_type": "markdown",
   "metadata": {},
   "source": [
    "### Importando o repositório"
   ]
  },
  {
   "cell_type": "code",
   "execution_count": 2,
   "metadata": {},
   "outputs": [
    {
     "data": {
      "text/html": [
       "<div>\n",
       "<style scoped>\n",
       "    .dataframe tbody tr th:only-of-type {\n",
       "        vertical-align: middle;\n",
       "    }\n",
       "\n",
       "    .dataframe tbody tr th {\n",
       "        vertical-align: top;\n",
       "    }\n",
       "\n",
       "    .dataframe thead th {\n",
       "        text-align: right;\n",
       "    }\n",
       "</style>\n",
       "<table border=\"1\" class=\"dataframe\">\n",
       "  <thead>\n",
       "    <tr style=\"text-align: right;\">\n",
       "      <th></th>\n",
       "      <th>ENROLLMENT</th>\n",
       "      <th>TUITION PAYMENT MARCH 2022</th>\n",
       "      <th>TUITION PAYMENT MARCH 2023</th>\n",
       "      <th>GENDER</th>\n",
       "      <th>TYPE OF EDUCATIONAL INSTITUTION</th>\n",
       "      <th>EDUCATIONAL INSTITUTION</th>\n",
       "      <th>INSTITUTION STATUS</th>\n",
       "      <th>DEPARTMENT</th>\n",
       "      <th>PROVINCE</th>\n",
       "      <th>DISTRICT</th>\n",
       "      <th>...</th>\n",
       "      <th>CAMPUS</th>\n",
       "      <th>FACULTY</th>\n",
       "      <th>PROGRAM/MAJOR</th>\n",
       "      <th>SHIFT/SCHEDULE</th>\n",
       "      <th>BENEFIT DISCOUNTS</th>\n",
       "      <th>STUDY MODE</th>\n",
       "      <th>AGE RANGE OF ENROLLED STUDENT</th>\n",
       "      <th>DISABILITY</th>\n",
       "      <th>NUMBER OF ENROLLED COURSES</th>\n",
       "      <th>AT-RISK COURSE</th>\n",
       "    </tr>\n",
       "  </thead>\n",
       "  <tbody>\n",
       "    <tr>\n",
       "      <th>0</th>\n",
       "      <td>Nuevo</td>\n",
       "      <td>0</td>\n",
       "      <td>0</td>\n",
       "      <td>M</td>\n",
       "      <td>INSTITUTO</td>\n",
       "      <td>IDAT</td>\n",
       "      <td>PRIVADA</td>\n",
       "      <td>LIMA</td>\n",
       "      <td>LIMA</td>\n",
       "      <td>BRENA</td>\n",
       "      <td>...</td>\n",
       "      <td>UTP Lima Centro</td>\n",
       "      <td>Fac. Ing. Sist. Y Elect.</td>\n",
       "      <td>ING. DE REDES Y COMUNICACIONES</td>\n",
       "      <td>MIXTO</td>\n",
       "      <td>SIN BENEFICIO</td>\n",
       "      <td>Presencial</td>\n",
       "      <td>5. &gt;=30</td>\n",
       "      <td>No</td>\n",
       "      <td>0</td>\n",
       "      <td>0</td>\n",
       "    </tr>\n",
       "    <tr>\n",
       "      <th>1</th>\n",
       "      <td>Nuevo</td>\n",
       "      <td>1</td>\n",
       "      <td>0</td>\n",
       "      <td>M</td>\n",
       "      <td>COLEGIO</td>\n",
       "      <td>COLEGIO SISE</td>\n",
       "      <td>PRIVADA</td>\n",
       "      <td>LIMA</td>\n",
       "      <td>LIMA</td>\n",
       "      <td>VILLA MARIA DEL TRIUNFO</td>\n",
       "      <td>...</td>\n",
       "      <td>UTP Lima Centro</td>\n",
       "      <td>Fac. Ing. Sist. Y Elect.</td>\n",
       "      <td>ING. DE SISTEMAS</td>\n",
       "      <td>NOCHE</td>\n",
       "      <td>SIN BENEFICIO</td>\n",
       "      <td>Presencial</td>\n",
       "      <td>4. 24-29</td>\n",
       "      <td>No</td>\n",
       "      <td>3</td>\n",
       "      <td>0</td>\n",
       "    </tr>\n",
       "    <tr>\n",
       "      <th>2</th>\n",
       "      <td>Nuevo</td>\n",
       "      <td>1</td>\n",
       "      <td>1</td>\n",
       "      <td>F</td>\n",
       "      <td>NaN</td>\n",
       "      <td>NaN</td>\n",
       "      <td>NaN</td>\n",
       "      <td>LIMA</td>\n",
       "      <td>LIMA</td>\n",
       "      <td>JESUS MARIA</td>\n",
       "      <td>...</td>\n",
       "      <td>UTP Lima Centro</td>\n",
       "      <td>Fac. Der. Cienc. Polit. Y RRII</td>\n",
       "      <td>DERECHO</td>\n",
       "      <td>NOCHE</td>\n",
       "      <td>SIN BENEFICIO</td>\n",
       "      <td>Presencial</td>\n",
       "      <td>4. 24-29</td>\n",
       "      <td>No</td>\n",
       "      <td>1</td>\n",
       "      <td>0</td>\n",
       "    </tr>\n",
       "    <tr>\n",
       "      <th>3</th>\n",
       "      <td>Nuevo</td>\n",
       "      <td>0</td>\n",
       "      <td>0</td>\n",
       "      <td>F</td>\n",
       "      <td>COLEGIO</td>\n",
       "      <td>1220 SAN JOSE MARELLO</td>\n",
       "      <td>ESTATAL</td>\n",
       "      <td>LIMA</td>\n",
       "      <td>LIMA</td>\n",
       "      <td>ATE</td>\n",
       "      <td>...</td>\n",
       "      <td>UTP Lima Centro</td>\n",
       "      <td>Fac. Adm. Y Neg.</td>\n",
       "      <td>ADMINISTRACION DE NEGOCIOS (50/50)</td>\n",
       "      <td>NOCHE</td>\n",
       "      <td>SIN BENEFICIO</td>\n",
       "      <td>Presencial</td>\n",
       "      <td>4. 24-29</td>\n",
       "      <td>No</td>\n",
       "      <td>0</td>\n",
       "      <td>0</td>\n",
       "    </tr>\n",
       "    <tr>\n",
       "      <th>4</th>\n",
       "      <td>Nuevo</td>\n",
       "      <td>1</td>\n",
       "      <td>1</td>\n",
       "      <td>F</td>\n",
       "      <td>INSTITUTO</td>\n",
       "      <td>IDAT</td>\n",
       "      <td>PRIVADA</td>\n",
       "      <td>LIMA</td>\n",
       "      <td>LIMA</td>\n",
       "      <td>SURQUILLO</td>\n",
       "      <td>...</td>\n",
       "      <td>UTP Lima Centro</td>\n",
       "      <td>Fac. Adm. Y Neg.</td>\n",
       "      <td>ADM. DE NEGOCIOS INTERNACIO</td>\n",
       "      <td>MAÑANA</td>\n",
       "      <td>CONVENIOS</td>\n",
       "      <td>Presencial</td>\n",
       "      <td>4. 24-29</td>\n",
       "      <td>No</td>\n",
       "      <td>2</td>\n",
       "      <td>0</td>\n",
       "    </tr>\n",
       "  </tbody>\n",
       "</table>\n",
       "<p>5 rows × 21 columns</p>\n",
       "</div>"
      ],
      "text/plain": [
       "  ENROLLMENT  TUITION PAYMENT MARCH 2022  TUITION PAYMENT MARCH 2023 GENDER  \\\n",
       "0      Nuevo                           0                           0      M   \n",
       "1      Nuevo                           1                           0      M   \n",
       "2      Nuevo                           1                           1      F   \n",
       "3      Nuevo                           0                           0      F   \n",
       "4      Nuevo                           1                           1      F   \n",
       "\n",
       "  TYPE OF EDUCATIONAL INSTITUTION EDUCATIONAL INSTITUTION INSTITUTION STATUS  \\\n",
       "0                       INSTITUTO                    IDAT            PRIVADA   \n",
       "1                         COLEGIO            COLEGIO SISE            PRIVADA   \n",
       "2                             NaN                     NaN                NaN   \n",
       "3                         COLEGIO   1220 SAN JOSE MARELLO            ESTATAL   \n",
       "4                       INSTITUTO                    IDAT            PRIVADA   \n",
       "\n",
       "  DEPARTMENT PROVINCE                 DISTRICT  ...           CAMPUS  \\\n",
       "0       LIMA     LIMA                    BRENA  ...  UTP Lima Centro   \n",
       "1       LIMA     LIMA  VILLA MARIA DEL TRIUNFO  ...  UTP Lima Centro   \n",
       "2       LIMA     LIMA              JESUS MARIA  ...  UTP Lima Centro   \n",
       "3       LIMA     LIMA                      ATE  ...  UTP Lima Centro   \n",
       "4       LIMA     LIMA                SURQUILLO  ...  UTP Lima Centro   \n",
       "\n",
       "                          FACULTY                       PROGRAM/MAJOR  \\\n",
       "0        Fac. Ing. Sist. Y Elect.      ING. DE REDES Y COMUNICACIONES   \n",
       "1        Fac. Ing. Sist. Y Elect.                    ING. DE SISTEMAS   \n",
       "2  Fac. Der. Cienc. Polit. Y RRII                             DERECHO   \n",
       "3                Fac. Adm. Y Neg.  ADMINISTRACION DE NEGOCIOS (50/50)   \n",
       "4                Fac. Adm. Y Neg.         ADM. DE NEGOCIOS INTERNACIO   \n",
       "\n",
       "  SHIFT/SCHEDULE BENEFIT DISCOUNTS  STUDY MODE AGE RANGE OF ENROLLED STUDENT  \\\n",
       "0          MIXTO     SIN BENEFICIO  Presencial                       5. >=30   \n",
       "1          NOCHE     SIN BENEFICIO  Presencial                      4. 24-29   \n",
       "2          NOCHE     SIN BENEFICIO  Presencial                      4. 24-29   \n",
       "3          NOCHE     SIN BENEFICIO  Presencial                      4. 24-29   \n",
       "4         MAÑANA         CONVENIOS  Presencial                      4. 24-29   \n",
       "\n",
       "  DISABILITY NUMBER OF ENROLLED COURSES  AT-RISK COURSE  \n",
       "0         No                          0               0  \n",
       "1         No                          3               0  \n",
       "2         No                          1               0  \n",
       "3         No                          0               0  \n",
       "4         No                          2               0  \n",
       "\n",
       "[5 rows x 21 columns]"
      ]
     },
     "execution_count": 2,
     "metadata": {},
     "output_type": "execute_result"
    }
   ],
   "source": [
    "import pandas as pd\n",
    "import matplotlib.pyplot as plt\n",
    "import seaborn as sns\n",
    "df = pd.read_csv('universityData.csv', on_bad_lines='warn', sep=\";\")\n",
    "df.head(5)"
   ]
  },
  {
   "cell_type": "code",
   "execution_count": 3,
   "metadata": {},
   "outputs": [
    {
     "name": "stdout",
     "output_type": "stream",
     "text": [
      "object\n",
      "['M' 'F' 'U' '2' '1' nan]\n",
      "GENDER\n",
      "M    21128\n",
      "F    16251\n",
      "U      201\n",
      "Name: count, dtype: int64\n"
     ]
    }
   ],
   "source": [
    "print(df['GENDER'].dtype)\n",
    "print(df['GENDER'].unique()) #Descobrimos aqui, que 1 e 2 são STRINGS e não integers\n",
    "df['GENDER'] = df['GENDER'].replace({'1': 'M', '2': 'F'})\n",
    "print(df['GENDER'].value_counts())"
   ]
  },
  {
   "cell_type": "code",
   "execution_count": 41,
   "metadata": {},
   "outputs": [
    {
     "name": "stdout",
     "output_type": "stream",
     "text": [
      "Em 2022, teve 32376 inscrições. Em 2023 entretanto, ocorreu 31619. Uma diferença de 757 inscrições!\n"
     ]
    }
   ],
   "source": [
    "anoUm = df['TUITION PAYMENT MARCH 2022'].value_counts()\n",
    "anoDois = df['TUITION PAYMENT MARCH 2023'].value_counts()\n",
    "print(f\"Em 2022, teve {anoUm[1]} inscrições. Em 2023 entretanto, ocorreu {anoDois[1]}. Uma diferença de {anoUm[1] - anoDois[1]} inscrições!\")\n"
   ]
  },
  {
   "cell_type": "markdown",
   "metadata": {},
   "source": [
    "#### VERIFICANDO VALORES AUSENTES"
   ]
  },
  {
   "cell_type": "code",
   "execution_count": 5,
   "metadata": {},
   "outputs": [
    {
     "name": "stdout",
     "output_type": "stream",
     "text": [
      "ENROLLMENT                         0\n",
      "TUITION PAYMENT MARCH 2022         0\n",
      "TUITION PAYMENT MARCH 2023         0\n",
      "GENDER                             0\n",
      "TYPE OF EDUCATIONAL INSTITUTION    0\n",
      "EDUCATIONAL INSTITUTION            0\n",
      "INSTITUTION STATUS                 0\n",
      "DEPARTMENT                         0\n",
      "PROVINCE                           0\n",
      "DISTRICT                           0\n",
      "CLASSIFICATION                     0\n",
      "CAMPUS                             0\n",
      "FACULTY                            0\n",
      "PROGRAM/MAJOR                      0\n",
      "SHIFT/SCHEDULE                     0\n",
      "BENEFIT DISCOUNTS                  0\n",
      "STUDY MODE                         0\n",
      "AGE RANGE OF ENROLLED STUDENT      0\n",
      "DISABILITY                         0\n",
      "NUMBER OF ENROLLED COURSES         0\n",
      "AT-RISK COURSE                     0\n",
      "dtype: int64\n",
      "Não há mais valores ausentes\n"
     ]
    }
   ],
   "source": [
    "for i in df.columns: #FILTRAGEM E SUBSTITUIÇÃO RESPECTIVAMENTE POR MODA E MEDIANA\n",
    "    if df[i].dtype == object:\n",
    "        df.loc[df[i].isna(), i] = df[i].mode()[0]\n",
    "    else:\n",
    "        df.loc[df[i].isna(), i] = df[i].median()\n",
    "print(df.isna().sum())\n",
    "print('Não há mais valores ausentes')"
   ]
  },
  {
   "cell_type": "code",
   "execution_count": 21,
   "metadata": {},
   "outputs": [
    {
     "name": "stdout",
     "output_type": "stream",
     "text": [
      "254\n",
      "498\n",
      "5\n"
     ]
    }
   ],
   "source": [
    "inscritas2022 = df[(df['TUITION PAYMENT MARCH 2022'] == 1) & (df['GENDER'] == 'F')].shape[0]\n",
    "inscritas2023 = df[(df['TUITION PAYMENT MARCH 2023'] == 1) & (df['GENDER'] == 'F')].shape[0]\n",
    "\n",
    "variaçãoFeminina = inscritas2022 - inscritas2023\n",
    "print(variaçãoFeminina)\n",
    "\n",
    "inscritos2022 = df[(df['TUITION PAYMENT MARCH 2022'] == 1) & (df['GENDER'] == 'M')].shape[0]\n",
    "inscritos2023 = df[(df['TUITION PAYMENT MARCH 2023'] == 1) & (df['GENDER'] == 'M')].shape[0]\n",
    "\n",
    "variaçãoMasculina = inscritos2022 - inscritos2023\n",
    "print(variaçãoMasculina)\n",
    "\n",
    "genDesconhecido2022 = df[(df['TUITION PAYMENT MARCH 2022'] == 1) & (df['GENDER'] == 'U')].shape[0]\n",
    "genDesconhecido2023 = df[(df['TUITION PAYMENT MARCH 2023'] == 1) & (df['GENDER'] == 'U')].shape[0]\n",
    "\n",
    "variaçãoDesconhecidos = genDesconhecido2022 - genDesconhecido2023\n",
    "print(variaçãoDesconhecidos)"
   ]
  },
  {
   "cell_type": "code",
   "execution_count": null,
   "metadata": {},
   "outputs": [
    {
     "name": "stdout",
     "output_type": "stream",
     "text": [
      "32376\n",
      "31619\n"
     ]
    },
    {
     "data": {
      "image/png": "[encoded data removed]",
      "text/plain": [
       "<Figure size 640x480 with 1 Axes>"
      ]
     },
     "metadata": {},
     "output_type": "display_data"
    }
   ],
   "source": [
    "pagamentos2022 = df['TUITION PAYMENT MARCH 2022'].eq(1).sum()\n",
    "pagamentos2023 = df['TUITION PAYMENT MARCH 2023'].eq(1).sum()\n",
    "\n",
    "data = [\n",
    "    {'Ano': 2022, 'Pagamentos': pagamentos2022},\n",
    "    {'Ano': 2023, 'Pagamentos': pagamentos2023}\n",
    "]\n",
    "df_variacao = pd.DataFrame(data)\n",
    "sns.set_style(\"whitegrid\")\n",
    "sns.lineplot(x='Ano', y='Pagamentos', data=df_variacao, marker='o')\n",
    "plt.title('Variação dos Pagamentos de 2022 e 2023')\n",
    "plt.xlabel('Ano')\n",
    "plt.ylabel('Número de Pagamentos')\n",
    "plt.show()"
   ]
  }
 ],
 "metadata": {
  "kernelspec": {
   "display_name": ".venv",
   "language": "python",
   "name": "python3"
  },
  "language_info": {
   "codemirror_mode": {
    "name": "ipython",
    "version": 3
   },
   "file_extension": ".py",
   "mimetype": "text/x-python",
   "name": "python",
   "nbconvert_exporter": "python",
   "pygments_lexer": "ipython3",
   "version": "3.12.3"
  }
 },
 "nbformat": 4,
 "nbformat_minor": 2
}
